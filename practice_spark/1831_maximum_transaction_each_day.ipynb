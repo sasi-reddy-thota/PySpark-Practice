{
 "cells": [
  {
   "cell_type": "code",
   "execution_count": 1,
   "id": "5398e003",
   "metadata": {},
   "outputs": [],
   "source": [
    "from pyspark.sql import SparkSession\n",
    "from pyspark.sql.functions import *\n",
    "from pyspark.sql.window import Window"
   ]
  },
  {
   "cell_type": "code",
   "execution_count": 3,
   "id": "f7400d75",
   "metadata": {},
   "outputs": [
    {
     "data": {
      "text/plain": [
       "'4.0.1'"
      ]
     },
     "execution_count": 3,
     "metadata": {},
     "output_type": "execute_result"
    }
   ],
   "source": [
    "spark=SparkSession.builder\\\n",
    "        .appName('SasiApp')\\\n",
    "        .master('local[*]')\\\n",
    "        .getOrCreate()\n",
    "spark.version"
   ]
  },
  {
   "cell_type": "code",
   "execution_count": 4,
   "id": "877f784f",
   "metadata": {},
   "outputs": [],
   "source": [
    "data = [\n",
    "    (8, \"2021-04-03 15:57:28\", 57),\n",
    "    (9, \"2021-04-28 08:47:25\", 21),\n",
    "    (1, \"2021-04-29 13:28:30\", 58),\n",
    "    (5, \"2021-04-28 16:39:59\", 40),\n",
    "    (6, \"2021-04-29 23:39:28\", 58)\n",
    "]\n"
   ]
  },
  {
   "cell_type": "code",
   "execution_count": 6,
   "id": "22ca9833",
   "metadata": {},
   "outputs": [
    {
     "name": "stdout",
     "output_type": "stream",
     "text": [
      "+--------------+-------------------+------+\n",
      "|transaction_id|                day|amount|\n",
      "+--------------+-------------------+------+\n",
      "|             8|2021-04-03 15:57:28|    57|\n",
      "|             9|2021-04-28 08:47:25|    21|\n",
      "|             1|2021-04-29 13:28:30|    58|\n",
      "|             5|2021-04-28 16:39:59|    40|\n",
      "|             6|2021-04-29 23:39:28|    58|\n",
      "+--------------+-------------------+------+\n",
      "\n"
     ]
    }
   ],
   "source": [
    "transactions_df=spark.createDataFrame(data,['transaction_id','day','amount'])\n",
    "transactions_df.show()"
   ]
  },
  {
   "cell_type": "code",
   "execution_count": 7,
   "id": "23898b3a",
   "metadata": {},
   "outputs": [
    {
     "name": "stdout",
     "output_type": "stream",
     "text": [
      "+--------------+-------------------+------+\n",
      "|transaction_id|                day|amount|\n",
      "+--------------+-------------------+------+\n",
      "|             8|2021-04-03 15:57:28|    57|\n",
      "|             9|2021-04-28 08:47:25|    21|\n",
      "|             1|2021-04-29 13:28:30|    58|\n",
      "|             5|2021-04-28 16:39:59|    40|\n",
      "|             6|2021-04-29 23:39:28|    58|\n",
      "+--------------+-------------------+------+\n",
      "\n"
     ]
    }
   ],
   "source": [
    "transactions_df=transactions_df.withColumn('day',to_timestamp(col('day'),'yyyy-MM-dd HH:mm:ss'))\n",
    "transactions_df.show()"
   ]
  },
  {
   "cell_type": "code",
   "execution_count": 9,
   "id": "ae1ea0a0",
   "metadata": {},
   "outputs": [
    {
     "name": "stdout",
     "output_type": "stream",
     "text": [
      "+--------------+-------------------+------+----------+\n",
      "|transaction_id|                day|amount|     day_1|\n",
      "+--------------+-------------------+------+----------+\n",
      "|             8|2021-04-03 15:57:28|    57|2021-04-03|\n",
      "|             9|2021-04-28 08:47:25|    21|2021-04-28|\n",
      "|             1|2021-04-29 13:28:30|    58|2021-04-29|\n",
      "|             5|2021-04-28 16:39:59|    40|2021-04-28|\n",
      "|             6|2021-04-29 23:39:28|    58|2021-04-29|\n",
      "+--------------+-------------------+------+----------+\n",
      "\n"
     ]
    }
   ],
   "source": [
    "transactions_df=transactions_df.withColumn('day_1',to_date('day'))\n",
    "transactions_df.show()"
   ]
  },
  {
   "cell_type": "code",
   "execution_count": 10,
   "id": "761d47c0",
   "metadata": {},
   "outputs": [
    {
     "name": "stdout",
     "output_type": "stream",
     "text": [
      "+--------------+-------------------+------+----------+---+\n",
      "|transaction_id|                day|amount|     day_1|rnk|\n",
      "+--------------+-------------------+------+----------+---+\n",
      "|             8|2021-04-03 15:57:28|    57|2021-04-03|  1|\n",
      "|             5|2021-04-28 16:39:59|    40|2021-04-28|  1|\n",
      "|             9|2021-04-28 08:47:25|    21|2021-04-28|  2|\n",
      "|             1|2021-04-29 13:28:30|    58|2021-04-29|  1|\n",
      "|             6|2021-04-29 23:39:28|    58|2021-04-29|  1|\n",
      "+--------------+-------------------+------+----------+---+\n",
      "\n"
     ]
    }
   ],
   "source": [
    "w=Window.partitionBy('day_1').orderBy(col('amount').desc())\n",
    "transactions_df=transactions_df.withColumn('rnk',rank().over(w))\n",
    "transactions_df.show()"
   ]
  },
  {
   "cell_type": "code",
   "execution_count": 19,
   "id": "9912513a",
   "metadata": {},
   "outputs": [],
   "source": [
    "transactions_df=transactions_df[['transaction_id']]\n",
    "transactions_df=transactions_df.orderBy(col('transaction_id').asc())"
   ]
  },
  {
   "cell_type": "code",
   "execution_count": 20,
   "id": "21eee123",
   "metadata": {},
   "outputs": [
    {
     "name": "stdout",
     "output_type": "stream",
     "text": [
      "+--------------+\n",
      "|transaction_id|\n",
      "+--------------+\n",
      "|             1|\n",
      "|             5|\n",
      "|             6|\n",
      "|             8|\n",
      "+--------------+\n",
      "\n"
     ]
    }
   ],
   "source": [
    "transactions_df.show()"
   ]
  }
 ],
 "metadata": {
  "kernelspec": {
   "display_name": "Python 3",
   "language": "python",
   "name": "python3"
  },
  "language_info": {
   "codemirror_mode": {
    "name": "ipython",
    "version": 3
   },
   "file_extension": ".py",
   "mimetype": "text/x-python",
   "name": "python",
   "nbconvert_exporter": "python",
   "pygments_lexer": "ipython3",
   "version": "3.13.7"
  }
 },
 "nbformat": 4,
 "nbformat_minor": 5
}
