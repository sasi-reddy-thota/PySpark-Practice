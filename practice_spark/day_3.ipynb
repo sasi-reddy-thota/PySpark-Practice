{
 "cells": [
  {
   "cell_type": "code",
   "execution_count": 6,
   "id": "1302e30d",
   "metadata": {},
   "outputs": [],
   "source": [
    "from pyspark.sql import SparkSession\n",
    "from pyspark.sql.functions import *\n",
    "from pyspark.sql.window import *\n",
    "import pandas as pd"
   ]
  },
  {
   "cell_type": "code",
   "execution_count": 4,
   "id": "ec1ca9b3",
   "metadata": {},
   "outputs": [
    {
     "data": {
      "text/plain": [
       "'4.0.1'"
      ]
     },
     "execution_count": 4,
     "metadata": {},
     "output_type": "execute_result"
    }
   ],
   "source": [
    "spark=SparkSession.builder\\\n",
    "        .appName('MySparkApp')\\\n",
    "        .master('local[*]')\\\n",
    "        .getOrCreate()\n",
    "spark.version"
   ]
  },
  {
   "cell_type": "code",
   "execution_count": 5,
   "id": "35db0ed7",
   "metadata": {},
   "outputs": [],
   "source": [
    "customers={\n",
    "    'customer_id': [1, 2, 3, 4, 5],\n",
    "    'name': ['Winston', 'Jonathan', 'Annabelle', 'Marwan', 'Khaled']\n",
    "}\n",
    "\n",
    "orders = {\n",
    "    'order_id': [1,2,3,4,5,6,7,8,9,10],\n",
    "    'order_date': [\n",
    "        '2020-07-31','2020-07-30','2020-08-29','2020-07-29','2020-06-10',\n",
    "        '2020-08-01','2020-08-01','2020-08-03','2020-08-07','2020-07-15'\n",
    "    ],\n",
    "    'customer_id': [1,2,3,4,1,2,3,1,2,1],\n",
    "    'product_id': [1,2,3,1,2,1,1,2,3,2]\n",
    "}\n",
    "\n",
    "products = {\n",
    "    'product_id': [1,2,3,4],\n",
    "    'product_name': ['keyboard','mouse','screen','hard disk'],\n",
    "    'price': [120,80,600,450]\n",
    "}\n"
   ]
  },
  {
   "cell_type": "code",
   "execution_count": 7,
   "id": "3ad14bf2",
   "metadata": {},
   "outputs": [],
   "source": [
    "df_customers = spark.createDataFrame(\n",
    "    [(1, 'Winston'), (2, 'Jonathan'), (3, 'Annabelle'), (4, 'Marwan'), (5, 'Khaled')],\n",
    "    ['customer_id', 'name']\n",
    ")\n",
    "\n",
    "df_orders = spark.createDataFrame([\n",
    "    (1,'2020-07-31',1,1),\n",
    "    (2,'2020-07-30',2,2),\n",
    "    (3,'2020-08-29',3,3),\n",
    "    (4,'2020-07-29',4,1),\n",
    "    (5,'2020-06-10',1,2),\n",
    "    (6,'2020-08-01',2,1),\n",
    "    (7,'2020-08-01',3,1),\n",
    "    (8,'2020-08-03',1,2),\n",
    "    (9,'2020-08-07',2,3),\n",
    "    (10,'2020-07-15',1,2)\n",
    "], ['order_id','order_date','customer_id','product_id'])\n",
    "\n",
    "df_products = spark.createDataFrame(\n",
    "    [(1,'keyboard',120),(2,'mouse',80),(3,'screen',600),(4,'hard disk',450)],\n",
    "    ['product_id','product_name','price']\n",
    ")"
   ]
  },
  {
   "cell_type": "code",
   "execution_count": null,
   "id": "7e1067c4",
   "metadata": {},
   "outputs": [],
   "source": [
    "df_orders=df_orders.withColumn('order_date',to_date('order_date'))\n"
   ]
  },
  {
   "cell_type": "code",
   "execution_count": 13,
   "id": "2ccd1549",
   "metadata": {},
   "outputs": [
    {
     "name": "stdout",
     "output_type": "stream",
     "text": [
      "+--------+----------+-----------+----------+\n",
      "|order_id|order_date|customer_id|product_id|\n",
      "+--------+----------+-----------+----------+\n",
      "|       1|2020-07-31|          1|         1|\n",
      "|       2|2020-07-30|          2|         2|\n",
      "|       3|2020-08-29|          3|         3|\n",
      "|       4|2020-07-29|          4|         1|\n",
      "|       5|2020-06-10|          1|         2|\n",
      "|       6|2020-08-01|          2|         1|\n",
      "|       7|2020-08-01|          3|         1|\n",
      "|       8|2020-08-03|          1|         2|\n",
      "|       9|2020-08-07|          2|         3|\n",
      "|      10|2020-07-15|          1|         2|\n",
      "+--------+----------+-----------+----------+\n",
      "\n"
     ]
    }
   ],
   "source": [
    "df_orders.show()"
   ]
  },
  {
   "cell_type": "code",
   "execution_count": 17,
   "id": "25b96a8a",
   "metadata": {},
   "outputs": [
    {
     "name": "stdout",
     "output_type": "stream",
     "text": [
      "+--------+----------+-----------+----------+----------------+\n",
      "|order_id|order_date|customer_id|product_id|first_order_date|\n",
      "+--------+----------+-----------+----------+----------------+\n",
      "|       6|2020-08-01|          2|         1|      2020-08-01|\n",
      "|       7|2020-08-01|          3|         1|      2020-08-01|\n",
      "|       8|2020-08-03|          1|         2|      2020-08-03|\n",
      "|       3|2020-08-29|          3|         3|      2020-08-29|\n",
      "+--------+----------+-----------+----------+----------------+\n",
      "\n"
     ]
    }
   ],
   "source": [
    "w=Window.partitionBy('product_id').orderBy(col('order_date').desc())\n",
    "df_orders=df_orders.withColumn('first_order_date',first('order_date').over(w))\n",
    "df_orders=df_orders[df_orders['first_order_date']==df_orders['order_date']]\n",
    "df_orders.show()"
   ]
  },
  {
   "cell_type": "code",
   "execution_count": 19,
   "id": "3d7d8416",
   "metadata": {},
   "outputs": [
    {
     "name": "stdout",
     "output_type": "stream",
     "text": [
      "+------------+----------+--------+----------+\n",
      "|product_name|product_id|order_id|order_date|\n",
      "+------------+----------+--------+----------+\n",
      "|    keyboard|         1|       6|2020-08-01|\n",
      "|    keyboard|         1|       7|2020-08-01|\n",
      "|       mouse|         2|       8|2020-08-03|\n",
      "|      screen|         3|       3|2020-08-29|\n",
      "+------------+----------+--------+----------+\n",
      "\n"
     ]
    }
   ],
   "source": [
    "result_df=df_orders.join(df_products,on='product_id',how='left')\n",
    "result_df=result_df[['product_name','product_id','order_id','order_date']].orderBy('order_date')\n",
    "result_df.show()"
   ]
  }
 ],
 "metadata": {
  "kernelspec": {
   "display_name": "Python 3",
   "language": "python",
   "name": "python3"
  },
  "language_info": {
   "codemirror_mode": {
    "name": "ipython",
    "version": 3
   },
   "file_extension": ".py",
   "mimetype": "text/x-python",
   "name": "python",
   "nbconvert_exporter": "python",
   "pygments_lexer": "ipython3",
   "version": "3.13.7"
  }
 },
 "nbformat": 4,
 "nbformat_minor": 5
}
