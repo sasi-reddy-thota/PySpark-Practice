{
 "cells": [
  {
   "cell_type": "code",
   "execution_count": 9,
   "id": "b7efbe20",
   "metadata": {},
   "outputs": [],
   "source": [
    "from pyspark.sql import SparkSession\n",
    "from pyspark.sql.functions import *\n",
    "from pyspark.sql.types import *\n",
    "from pyspark.sql.window import Window"
   ]
  },
  {
   "cell_type": "code",
   "execution_count": 6,
   "id": "8e7217c5",
   "metadata": {},
   "outputs": [
    {
     "data": {
      "text/plain": [
       "'4.0.1'"
      ]
     },
     "execution_count": 6,
     "metadata": {},
     "output_type": "execute_result"
    }
   ],
   "source": [
    "spark=SparkSession.builder\\\n",
    "        .appName('SparkApp')\\\n",
    "        .master('local[*]')\\\n",
    "        .getOrCreate()\n",
    "spark.version"
   ]
  },
  {
   "cell_type": "code",
   "execution_count": 19,
   "id": "e7a0df5d",
   "metadata": {},
   "outputs": [],
   "source": [
    "schema = StructType([\n",
    "    StructField(\"player_name\", StringType(), True),\n",
    "    StructField(\"gender\", StringType(), True),\n",
    "    StructField(\"day\", StringType(), True),\n",
    "    StructField(\"score_points\", IntegerType(), True)\n",
    "])\n",
    "\n",
    "data = [\n",
    "    (\"Aron\", \"F\", \"2020-01-01\", 17),\n",
    "    (\"Alice\", \"F\", \"2020-01-07\", 23),\n",
    "    (\"Bajrang\", \"M\", \"2020-01-07\", 7),\n",
    "    (\"Khali\", \"M\", \"2019-12-25\", 11),\n",
    "    (\"Slaman\", \"M\", \"2019-12-30\", 13),\n",
    "    (\"Joe\", \"M\", \"2019-12-31\", 3),\n",
    "    (\"Jose\", \"M\", \"2019-12-18\", 2),\n",
    "    (\"Priya\", \"F\", \"2019-12-31\", 23),\n",
    "    (\"Priyanka\", \"F\", \"2019-12-30\", 17)\n",
    "]\n",
    "\n",
    "scores_df=spark.createDataFrame(data,schema=schema)\\\n",
    "                .withColumn('day',to_date('day','yyyy-MM-dd'))"
   ]
  },
  {
   "cell_type": "code",
   "execution_count": 20,
   "id": "b1253030",
   "metadata": {},
   "outputs": [
    {
     "name": "stdout",
     "output_type": "stream",
     "text": [
      "+-----------+------+----------+------------+-----+\n",
      "|player_name|gender|       day|score_points|total|\n",
      "+-----------+------+----------+------------+-----+\n",
      "|   Priyanka|     F|2019-12-30|          17|   17|\n",
      "|      Priya|     F|2019-12-31|          23|   40|\n",
      "|       Aron|     F|2020-01-01|          17|   57|\n",
      "|      Alice|     F|2020-01-07|          23|   80|\n",
      "|       Jose|     M|2019-12-18|           2|    2|\n",
      "|      Khali|     M|2019-12-25|          11|   13|\n",
      "|     Slaman|     M|2019-12-30|          13|   26|\n",
      "|        Joe|     M|2019-12-31|           3|   29|\n",
      "|    Bajrang|     M|2020-01-07|           7|   36|\n",
      "+-----------+------+----------+------------+-----+\n",
      "\n"
     ]
    }
   ],
   "source": [
    "w=Window.partitionBy('gender').orderBy('gender','day')\n",
    "scores_df=scores_df.withColumn('total',sum('score_points').over(w))\n",
    "scores_df.show()"
   ]
  },
  {
   "cell_type": "code",
   "execution_count": 22,
   "id": "6221f021",
   "metadata": {},
   "outputs": [
    {
     "name": "stdout",
     "output_type": "stream",
     "text": [
      "+------+----------+-----+\n",
      "|gender|       day|total|\n",
      "+------+----------+-----+\n",
      "|     F|2019-12-30|   17|\n",
      "|     F|2019-12-31|   40|\n",
      "|     F|2020-01-01|   57|\n",
      "|     F|2020-01-07|   80|\n",
      "|     M|2019-12-18|    2|\n",
      "|     M|2019-12-25|   13|\n",
      "|     M|2019-12-30|   26|\n",
      "|     M|2019-12-31|   29|\n",
      "|     M|2020-01-07|   36|\n",
      "+------+----------+-----+\n",
      "\n"
     ]
    }
   ],
   "source": [
    "scores_df[['gender','day','total']].show()"
   ]
  }
 ],
 "metadata": {
  "kernelspec": {
   "display_name": "Python 3",
   "language": "python",
   "name": "python3"
  },
  "language_info": {
   "codemirror_mode": {
    "name": "ipython",
    "version": 3
   },
   "file_extension": ".py",
   "mimetype": "text/x-python",
   "name": "python",
   "nbconvert_exporter": "python",
   "pygments_lexer": "ipython3",
   "version": "3.13.7"
  }
 },
 "nbformat": 4,
 "nbformat_minor": 5
}
