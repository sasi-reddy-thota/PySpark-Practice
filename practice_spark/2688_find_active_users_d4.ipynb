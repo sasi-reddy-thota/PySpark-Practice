{
 "cells": [
  {
   "cell_type": "code",
   "execution_count": 1,
   "id": "07641543",
   "metadata": {},
   "outputs": [],
   "source": [
    "from pyspark.sql import SparkSession\n",
    "from pyspark.sql.functions import *\n",
    "from pyspark.sql.window import *"
   ]
  },
  {
   "cell_type": "code",
   "execution_count": 3,
   "id": "5e02baa1",
   "metadata": {},
   "outputs": [
    {
     "data": {
      "text/plain": [
       "'4.0.1'"
      ]
     },
     "execution_count": 3,
     "metadata": {},
     "output_type": "execute_result"
    }
   ],
   "source": [
    "spark=SparkSession.builder\\\n",
    "        .appName('MySparkApp')\\\n",
    "        .master('local[*]')\\\n",
    "        .getOrCreate()\n",
    "spark.version"
   ]
  },
  {
   "cell_type": "code",
   "execution_count": 13,
   "id": "fb51a1a6",
   "metadata": {},
   "outputs": [],
   "source": [
    "users= [\n",
    "    (5, \"Smart Crock Pot\", \"2021-09-18\", 698882),\n",
    "    (6, \"Smart Lock\", \"2021-09-14\", 11487),\n",
    "    (6, \"Smart Thermostat\", \"2021-09-10\", 674762),\n",
    "    (8, \"Smart Light Strip\", \"2021-09-29\", 630773),\n",
    "    (4, \"Smart Cat Feeder\", \"2021-09-02\", 693545),\n",
    "    (4, \"Smart Bed\", \"2021-09-13\", 170249)\n",
    "]"
   ]
  },
  {
   "cell_type": "code",
   "execution_count": 14,
   "id": "8902d6c7",
   "metadata": {},
   "outputs": [
    {
     "name": "stdout",
     "output_type": "stream",
     "text": [
      "+-------+-----------------+----------+------+\n",
      "|user_id|             item|created_at|amount|\n",
      "+-------+-----------------+----------+------+\n",
      "|      5|  Smart Crock Pot|2021-09-18|698882|\n",
      "|      6|       Smart Lock|2021-09-14| 11487|\n",
      "|      6| Smart Thermostat|2021-09-10|674762|\n",
      "|      8|Smart Light Strip|2021-09-29|630773|\n",
      "|      4| Smart Cat Feeder|2021-09-02|693545|\n",
      "|      4|        Smart Bed|2021-09-13|170249|\n",
      "+-------+-----------------+----------+------+\n",
      "\n"
     ]
    }
   ],
   "source": [
    "users_df=spark.createDataFrame(users,['user_id','item','created_at','amount'])\n",
    "users_df.show()"
   ]
  },
  {
   "cell_type": "code",
   "execution_count": 15,
   "id": "5d75cf6c",
   "metadata": {},
   "outputs": [
    {
     "name": "stdout",
     "output_type": "stream",
     "text": [
      "+-------+-----------------+----------+------+------------------+\n",
      "|user_id|             item|created_at|amount|next_purchase_date|\n",
      "+-------+-----------------+----------+------+------------------+\n",
      "|      4| Smart Cat Feeder|2021-09-02|693545|        2021-09-13|\n",
      "|      4|        Smart Bed|2021-09-13|170249|              NULL|\n",
      "|      5|  Smart Crock Pot|2021-09-18|698882|              NULL|\n",
      "|      6| Smart Thermostat|2021-09-10|674762|        2021-09-14|\n",
      "|      6|       Smart Lock|2021-09-14| 11487|              NULL|\n",
      "|      8|Smart Light Strip|2021-09-29|630773|              NULL|\n",
      "+-------+-----------------+----------+------+------------------+\n",
      "\n"
     ]
    }
   ],
   "source": [
    "w=Window.partitionBy('user_id').orderBy(col('created_at'))\n",
    "users_df=users_df.withColumn('next_purchase_date',lead('created_at').over(w))\n",
    "users_df.show()"
   ]
  },
  {
   "cell_type": "code",
   "execution_count": 16,
   "id": "f03bbc18",
   "metadata": {},
   "outputs": [
    {
     "name": "stdout",
     "output_type": "stream",
     "text": [
      "+-------+\n",
      "|user_id|\n",
      "+-------+\n",
      "|      6|\n",
      "+-------+\n",
      "\n"
     ]
    }
   ],
   "source": [
    "users_df=users_df[date_diff(users_df['next_purchase_date'],users_df['created_at'])<=7][['user_id']]\n",
    "users_df.show()"
   ]
  }
 ],
 "metadata": {
  "kernelspec": {
   "display_name": "Python 3",
   "language": "python",
   "name": "python3"
  },
  "language_info": {
   "codemirror_mode": {
    "name": "ipython",
    "version": 3
   },
   "file_extension": ".py",
   "mimetype": "text/x-python",
   "name": "python",
   "nbconvert_exporter": "python",
   "pygments_lexer": "ipython3",
   "version": "3.13.7"
  }
 },
 "nbformat": 4,
 "nbformat_minor": 5
}
