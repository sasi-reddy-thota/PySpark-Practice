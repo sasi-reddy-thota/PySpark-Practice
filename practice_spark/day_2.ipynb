{
 "cells": [
  {
   "cell_type": "code",
   "execution_count": 21,
   "id": "81836601",
   "metadata": {},
   "outputs": [],
   "source": [
    "from pyspark.sql import SparkSession\n",
    "from pyspark.sql.functions import *\n",
    "from pyspark.sql.window import Window\n",
    "import pandas as pd"
   ]
  },
  {
   "cell_type": "code",
   "execution_count": 4,
   "id": "7fc3c458",
   "metadata": {},
   "outputs": [
    {
     "data": {
      "text/plain": [
       "'4.0.1'"
      ]
     },
     "execution_count": 4,
     "metadata": {},
     "output_type": "execute_result"
    }
   ],
   "source": [
    "spark=SparkSession.builder \\\n",
    "        .appName('MySparkApp')\\\n",
    "        .master('local[*]')\\\n",
    "        .getOrCreate()\n",
    "spark.version\n"
   ]
  },
  {
   "cell_type": "code",
   "execution_count": 18,
   "id": "73582ab0",
   "metadata": {},
   "outputs": [],
   "source": [
    "data = {\n",
    "    'user_id': [101, 101, 102, 102, 101, 104, 103],\n",
    "    'session_start': [\n",
    "        '2023-11-06 13:53:42',\n",
    "        '2023-11-22 16:45:21',\n",
    "        '2023-11-16 13:23:09',\n",
    "        '2023-11-17 13:23:09',\n",
    "        '2023-11-20 07:16:06',\n",
    "        '2023-11-27 03:10:49',\n",
    "        '2023-11-27 03:10:49'\n",
    "    ],\n",
    "    'session_end': [\n",
    "        '2023-11-06 14:05:42',\n",
    "        '2023-11-22 20:39:21',\n",
    "        '2023-11-16 16:10:09',\n",
    "        '2023-11-17 16:10:09',\n",
    "        '2023-11-20 08:33:06',\n",
    "        '2023-11-27 03:30:49',\n",
    "        '2023-11-27 03:30:49'\n",
    "    ],\n",
    "    'session_id': [375, 594, 777, 778, 315, 797, 798],\n",
    "    'session_type': ['Viewer', 'Streamer', 'Streamer', 'Streamer', 'Streamer', 'Viewer', 'Streamer']\n",
    "}"
   ]
  },
  {
   "cell_type": "code",
   "execution_count": 26,
   "id": "a294e016",
   "metadata": {},
   "outputs": [
    {
     "name": "stdout",
     "output_type": "stream",
     "text": [
      "+-------+-------------------+-------------------+----------+------------+\n",
      "|user_id|      session_start|        session_end|session_id|session_type|\n",
      "+-------+-------------------+-------------------+----------+------------+\n",
      "|    101|2023-11-06 13:53:42|2023-11-06 14:05:42|       375|      Viewer|\n",
      "|    101|2023-11-22 16:45:21|2023-11-22 20:39:21|       594|    Streamer|\n",
      "|    102|2023-11-16 13:23:09|2023-11-16 16:10:09|       777|    Streamer|\n",
      "|    102|2023-11-17 13:23:09|2023-11-17 16:10:09|       778|    Streamer|\n",
      "|    101|2023-11-20 07:16:06|2023-11-20 08:33:06|       315|    Streamer|\n",
      "|    104|2023-11-27 03:10:49|2023-11-27 03:30:49|       797|      Viewer|\n",
      "|    103|2023-11-27 03:10:49|2023-11-27 03:30:49|       798|    Streamer|\n",
      "+-------+-------------------+-------------------+----------+------------+\n",
      "\n"
     ]
    }
   ],
   "source": [
    "pdf = pd.DataFrame(data)\n",
    "sessions=spark.createDataFrame(pdf)\n",
    "sessions.show()"
   ]
  },
  {
   "cell_type": "code",
   "execution_count": 27,
   "id": "d4d68f4a",
   "metadata": {},
   "outputs": [
    {
     "name": "stdout",
     "output_type": "stream",
     "text": [
      "+-------+-------------------+-------------------+----------+------------+-----------+\n",
      "|user_id|      session_start|        session_end|session_id|session_type|first_value|\n",
      "+-------+-------------------+-------------------+----------+------------+-----------+\n",
      "|    101|2023-11-06 13:53:42|2023-11-06 14:05:42|       375|      Viewer|     Viewer|\n",
      "|    101|2023-11-20 07:16:06|2023-11-20 08:33:06|       315|    Streamer|     Viewer|\n",
      "|    101|2023-11-22 16:45:21|2023-11-22 20:39:21|       594|    Streamer|     Viewer|\n",
      "|    102|2023-11-16 13:23:09|2023-11-16 16:10:09|       777|    Streamer|   Streamer|\n",
      "|    102|2023-11-17 13:23:09|2023-11-17 16:10:09|       778|    Streamer|   Streamer|\n",
      "|    103|2023-11-27 03:10:49|2023-11-27 03:30:49|       798|    Streamer|   Streamer|\n",
      "|    104|2023-11-27 03:10:49|2023-11-27 03:30:49|       797|      Viewer|     Viewer|\n",
      "+-------+-------------------+-------------------+----------+------------+-----------+\n",
      "\n"
     ]
    }
   ],
   "source": [
    "w=Window.partitionBy('user_id').orderBy('session_start')\n",
    "sessions=sessions.withColumn('first_value',first('session_type').over(w))\n",
    "sessions.show()"
   ]
  },
  {
   "cell_type": "code",
   "execution_count": 28,
   "id": "7146f61f",
   "metadata": {},
   "outputs": [
    {
     "name": "stdout",
     "output_type": "stream",
     "text": [
      "+-------+-------------------+-------------------+----------+------------+-----------+\n",
      "|user_id|      session_start|        session_end|session_id|session_type|first_value|\n",
      "+-------+-------------------+-------------------+----------+------------+-----------+\n",
      "|    101|2023-11-20 07:16:06|2023-11-20 08:33:06|       315|    Streamer|     Viewer|\n",
      "|    101|2023-11-22 16:45:21|2023-11-22 20:39:21|       594|    Streamer|     Viewer|\n",
      "+-------+-------------------+-------------------+----------+------------+-----------+\n",
      "\n"
     ]
    }
   ],
   "source": [
    "sessions=sessions[(sessions['first_value']=='Viewer')&(sessions['session_type']=='Streamer')]\n",
    "sessions.show()"
   ]
  },
  {
   "cell_type": "code",
   "execution_count": 32,
   "id": "84fee2f4",
   "metadata": {},
   "outputs": [],
   "source": [
    "sessions=sessions.groupBy('user_id')\\\n",
    "    .agg(count('user_id').alias('sessions_count'))\\\n",
    "    .orderBy(col('sessions_count').desc(),col('user_id').asc())"
   ]
  },
  {
   "cell_type": "code",
   "execution_count": 33,
   "id": "3147035f",
   "metadata": {},
   "outputs": [
    {
     "name": "stdout",
     "output_type": "stream",
     "text": [
      "+-------+--------------+\n",
      "|user_id|sessions_count|\n",
      "+-------+--------------+\n",
      "|    101|             1|\n",
      "+-------+--------------+\n",
      "\n"
     ]
    }
   ],
   "source": [
    "sessions.show()"
   ]
  }
 ],
 "metadata": {
  "kernelspec": {
   "display_name": "base",
   "language": "python",
   "name": "python3"
  },
  "language_info": {
   "codemirror_mode": {
    "name": "ipython",
    "version": 3
   },
   "file_extension": ".py",
   "mimetype": "text/x-python",
   "name": "python",
   "nbconvert_exporter": "python",
   "pygments_lexer": "ipython3",
   "version": "3.11.13"
  }
 },
 "nbformat": 4,
 "nbformat_minor": 5
}
