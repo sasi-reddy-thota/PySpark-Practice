{
 "cells": [
  {
   "cell_type": "code",
   "execution_count": 1,
   "id": "82c18f66",
   "metadata": {},
   "outputs": [],
   "source": [
    "from pyspark.sql import SparkSession\n",
    "from pyspark.sql.functions import *\n",
    "from pyspark.sql.window import Window"
   ]
  },
  {
   "cell_type": "code",
   "execution_count": 3,
   "id": "c00eb692",
   "metadata": {},
   "outputs": [
    {
     "data": {
      "text/plain": [
       "'4.0.1'"
      ]
     },
     "execution_count": 3,
     "metadata": {},
     "output_type": "execute_result"
    }
   ],
   "source": [
    "spark=SparkSession.builder\\\n",
    "    .appName('MySparkApp')\\\n",
    "    .master('local[*]')\\\n",
    "    .getOrCreate()\n",
    "spark.version"
   ]
  },
  {
   "cell_type": "code",
   "execution_count": 4,
   "id": "ac7517cb",
   "metadata": {},
   "outputs": [],
   "source": [
    "data = [\n",
    "    (1, 1, 20),\n",
    "    (2, 1, 20),\n",
    "    (1, 2, 30),\n",
    "    (2, 2, 30),\n",
    "    (3, 2, 40),\n",
    "    (1, 3, 40),\n",
    "    (3, 3, 60),\n",
    "    (1, 4, 60),\n",
    "    (3, 4, 70)\n",
    "]"
   ]
  },
  {
   "cell_type": "code",
   "execution_count": 5,
   "id": "7c00c50b",
   "metadata": {},
   "outputs": [
    {
     "name": "stderr",
     "output_type": "stream",
     "text": [
      "[Stage 0:>                                                          (0 + 1) / 1]\r"
     ]
    },
    {
     "name": "stdout",
     "output_type": "stream",
     "text": [
      "+---+-----+------+\n",
      "| id|month|salary|\n",
      "+---+-----+------+\n",
      "|  1|    1|    20|\n",
      "|  2|    1|    20|\n",
      "|  1|    2|    30|\n",
      "|  2|    2|    30|\n",
      "|  3|    2|    40|\n",
      "|  1|    3|    40|\n",
      "|  3|    3|    60|\n",
      "|  1|    4|    60|\n",
      "|  3|    4|    70|\n",
      "+---+-----+------+\n",
      "\n"
     ]
    },
    {
     "name": "stderr",
     "output_type": "stream",
     "text": [
      "                                                                                \r"
     ]
    }
   ],
   "source": [
    "employee_df=spark.createDataFrame(data,['id','month','salary'])\n",
    "employee_df.show()"
   ]
  },
  {
   "cell_type": "code",
   "execution_count": 7,
   "id": "77daa7fe",
   "metadata": {},
   "outputs": [
    {
     "name": "stdout",
     "output_type": "stream",
     "text": [
      "+---+-----+------+--------------+\n",
      "| id|month|salary|running_amount|\n",
      "+---+-----+------+--------------+\n",
      "|  1|    1|    20|            20|\n",
      "|  1|    2|    30|            50|\n",
      "|  1|    3|    40|            90|\n",
      "|  1|    4|    60|           150|\n",
      "|  2|    1|    20|            20|\n",
      "|  2|    2|    30|            50|\n",
      "|  3|    2|    40|            40|\n",
      "|  3|    3|    60|           100|\n",
      "|  3|    4|    70|           170|\n",
      "+---+-----+------+--------------+\n",
      "\n"
     ]
    }
   ],
   "source": [
    "w=Window.partitionBy('id').orderBy('month')\n",
    "employee_df=employee_df.withColumn('running_amount',sum('salary').over(w))\n",
    "employee_df.show()"
   ]
  },
  {
   "cell_type": "code",
   "execution_count": 8,
   "id": "4abe436b",
   "metadata": {},
   "outputs": [
    {
     "name": "stdout",
     "output_type": "stream",
     "text": [
      "+---+-----+------+--------------+---+\n",
      "| id|month|salary|running_amount|rnk|\n",
      "+---+-----+------+--------------+---+\n",
      "|  1|    4|    60|           150|  1|\n",
      "|  1|    3|    40|            90|  2|\n",
      "|  1|    2|    30|            50|  3|\n",
      "|  1|    1|    20|            20|  4|\n",
      "|  2|    2|    30|            50|  1|\n",
      "|  2|    1|    20|            20|  2|\n",
      "|  3|    4|    70|           170|  1|\n",
      "|  3|    3|    60|           100|  2|\n",
      "|  3|    2|    40|            40|  3|\n",
      "+---+-----+------+--------------+---+\n",
      "\n"
     ]
    }
   ],
   "source": [
    "w=Window.partitionBy('id').orderBy(col('running_amount').desc())\n",
    "employee_df=employee_df.withColumn('rnk',rank().over(w))\n",
    "employee_df.show()"
   ]
  },
  {
   "cell_type": "code",
   "execution_count": 9,
   "id": "bdce5281",
   "metadata": {},
   "outputs": [
    {
     "name": "stdout",
     "output_type": "stream",
     "text": [
      "+---+-----+------+--------------+---+\n",
      "| id|month|salary|running_amount|rnk|\n",
      "+---+-----+------+--------------+---+\n",
      "|  1|    3|    40|            90|  2|\n",
      "|  1|    2|    30|            50|  3|\n",
      "|  1|    1|    20|            20|  4|\n",
      "|  2|    1|    20|            20|  2|\n",
      "|  3|    3|    60|           100|  2|\n",
      "|  3|    2|    40|            40|  3|\n",
      "+---+-----+------+--------------+---+\n",
      "\n"
     ]
    }
   ],
   "source": [
    "employee_df=employee_df[(employee_df['rnk']!=1)&(employee_df['rnk']<=4)]\n",
    "employee_df.show()"
   ]
  },
  {
   "cell_type": "code",
   "execution_count": 10,
   "id": "0a8da09f",
   "metadata": {},
   "outputs": [
    {
     "name": "stdout",
     "output_type": "stream",
     "text": [
      "+---+-----+------+\n",
      "| id|month|salary|\n",
      "+---+-----+------+\n",
      "|  1|    3|    90|\n",
      "|  1|    2|    50|\n",
      "|  1|    1|    20|\n",
      "|  2|    1|    20|\n",
      "|  3|    3|   100|\n",
      "|  3|    2|    40|\n",
      "+---+-----+------+\n",
      "\n"
     ]
    }
   ],
   "source": [
    "employee_df=employee_df[['id','month',col('running_amount').alias('salary')]]\n",
    "employee_df.show()"
   ]
  }
 ],
 "metadata": {
  "kernelspec": {
   "display_name": "Python 3",
   "language": "python",
   "name": "python3"
  },
  "language_info": {
   "codemirror_mode": {
    "name": "ipython",
    "version": 3
   },
   "file_extension": ".py",
   "mimetype": "text/x-python",
   "name": "python",
   "nbconvert_exporter": "python",
   "pygments_lexer": "ipython3",
   "version": "3.13.7"
  }
 },
 "nbformat": 4,
 "nbformat_minor": 5
}
