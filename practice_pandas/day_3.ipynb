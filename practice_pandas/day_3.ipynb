{
 "cells": [
  {
   "cell_type": "code",
   "execution_count": 2,
   "id": "932d4336",
   "metadata": {},
   "outputs": [],
   "source": [
    "import pandas as pd"
   ]
  },
  {
   "cell_type": "code",
   "execution_count": 3,
   "id": "726ef85f",
   "metadata": {},
   "outputs": [],
   "source": [
    "customers={\n",
    "    'customer_id': [1, 2, 3, 4, 5],\n",
    "    'name': ['Winston', 'Jonathan', 'Annabelle', 'Marwan', 'Khaled']\n",
    "}\n",
    "\n",
    "orders = {\n",
    "    'order_id': [1,2,3,4,5,6,7,8,9,10],\n",
    "    'order_date': [\n",
    "        '2020-07-31','2020-07-30','2020-08-29','2020-07-29','2020-06-10',\n",
    "        '2020-08-01','2020-08-01','2020-08-03','2020-08-07','2020-07-15'\n",
    "    ],\n",
    "    'customer_id': [1,2,3,4,1,2,3,1,2,1],\n",
    "    'product_id': [1,2,3,1,2,1,1,2,3,2]\n",
    "}\n",
    "\n",
    "products = {\n",
    "    'product_id': [1,2,3,4],\n",
    "    'product_name': ['keyboard','mouse','screen','hard disk'],\n",
    "    'price': [120,80,600,450]\n",
    "}\n"
   ]
  },
  {
   "cell_type": "code",
   "execution_count": 13,
   "id": "0a921691",
   "metadata": {},
   "outputs": [
    {
     "data": {
      "text/plain": [
       "(   order_id  order_date  customer_id  product_id\n",
       " 0         1  2020-07-31            1           1\n",
       " 1         2  2020-07-30            2           2\n",
       " 2         3  2020-08-29            3           3\n",
       " 3         4  2020-07-29            4           1\n",
       " 4         5  2020-06-10            1           2\n",
       " 5         6  2020-08-01            2           1\n",
       " 6         7  2020-08-01            3           1\n",
       " 7         8  2020-08-03            1           2\n",
       " 8         9  2020-08-07            2           3\n",
       " 9        10  2020-07-15            1           2,\n",
       "    product_id product_name  price\n",
       " 0           1     keyboard    120\n",
       " 1           2        mouse     80\n",
       " 2           3       screen    600\n",
       " 3           4    hard disk    450)"
      ]
     },
     "execution_count": 13,
     "metadata": {},
     "output_type": "execute_result"
    }
   ],
   "source": [
    "products_df=pd.DataFrame(products)\n",
    "orders_df=pd.DataFrame(orders)\n",
    "orders_df,products_df"
   ]
  },
  {
   "cell_type": "code",
   "execution_count": 14,
   "id": "3ecac196",
   "metadata": {},
   "outputs": [
    {
     "data": {
      "text/html": [
       "<div>\n",
       "<style scoped>\n",
       "    .dataframe tbody tr th:only-of-type {\n",
       "        vertical-align: middle;\n",
       "    }\n",
       "\n",
       "    .dataframe tbody tr th {\n",
       "        vertical-align: top;\n",
       "    }\n",
       "\n",
       "    .dataframe thead th {\n",
       "        text-align: right;\n",
       "    }\n",
       "</style>\n",
       "<table border=\"1\" class=\"dataframe\">\n",
       "  <thead>\n",
       "    <tr style=\"text-align: right;\">\n",
       "      <th></th>\n",
       "      <th>product_id</th>\n",
       "      <th>recent_order_date</th>\n",
       "    </tr>\n",
       "  </thead>\n",
       "  <tbody>\n",
       "    <tr>\n",
       "      <th>0</th>\n",
       "      <td>1</td>\n",
       "      <td>2020-08-01</td>\n",
       "    </tr>\n",
       "    <tr>\n",
       "      <th>1</th>\n",
       "      <td>2</td>\n",
       "      <td>2020-08-03</td>\n",
       "    </tr>\n",
       "    <tr>\n",
       "      <th>2</th>\n",
       "      <td>3</td>\n",
       "      <td>2020-08-29</td>\n",
       "    </tr>\n",
       "  </tbody>\n",
       "</table>\n",
       "</div>"
      ],
      "text/plain": [
       "   product_id recent_order_date\n",
       "0           1        2020-08-01\n",
       "1           2        2020-08-03\n",
       "2           3        2020-08-29"
      ]
     },
     "execution_count": 14,
     "metadata": {},
     "output_type": "execute_result"
    }
   ],
   "source": [
    "temp_df=orders_df.groupby('product_id',as_index=False)\\\n",
    "                    .agg(recent_order_date=('order_date','max'))\n",
    "temp_df"
   ]
  },
  {
   "cell_type": "code",
   "execution_count": 15,
   "id": "ee55e0ec",
   "metadata": {},
   "outputs": [],
   "source": [
    "orders_df=pd.merge(orders_df,temp_df,on='product_id',how='left')"
   ]
  },
  {
   "cell_type": "code",
   "execution_count": 16,
   "id": "85bb9efd",
   "metadata": {},
   "outputs": [
    {
     "data": {
      "text/html": [
       "<div>\n",
       "<style scoped>\n",
       "    .dataframe tbody tr th:only-of-type {\n",
       "        vertical-align: middle;\n",
       "    }\n",
       "\n",
       "    .dataframe tbody tr th {\n",
       "        vertical-align: top;\n",
       "    }\n",
       "\n",
       "    .dataframe thead th {\n",
       "        text-align: right;\n",
       "    }\n",
       "</style>\n",
       "<table border=\"1\" class=\"dataframe\">\n",
       "  <thead>\n",
       "    <tr style=\"text-align: right;\">\n",
       "      <th></th>\n",
       "      <th>order_id</th>\n",
       "      <th>order_date</th>\n",
       "      <th>customer_id</th>\n",
       "      <th>product_id</th>\n",
       "      <th>recent_order_date</th>\n",
       "    </tr>\n",
       "  </thead>\n",
       "  <tbody>\n",
       "    <tr>\n",
       "      <th>2</th>\n",
       "      <td>3</td>\n",
       "      <td>2020-08-29</td>\n",
       "      <td>3</td>\n",
       "      <td>3</td>\n",
       "      <td>2020-08-29</td>\n",
       "    </tr>\n",
       "    <tr>\n",
       "      <th>5</th>\n",
       "      <td>6</td>\n",
       "      <td>2020-08-01</td>\n",
       "      <td>2</td>\n",
       "      <td>1</td>\n",
       "      <td>2020-08-01</td>\n",
       "    </tr>\n",
       "    <tr>\n",
       "      <th>6</th>\n",
       "      <td>7</td>\n",
       "      <td>2020-08-01</td>\n",
       "      <td>3</td>\n",
       "      <td>1</td>\n",
       "      <td>2020-08-01</td>\n",
       "    </tr>\n",
       "    <tr>\n",
       "      <th>7</th>\n",
       "      <td>8</td>\n",
       "      <td>2020-08-03</td>\n",
       "      <td>1</td>\n",
       "      <td>2</td>\n",
       "      <td>2020-08-03</td>\n",
       "    </tr>\n",
       "  </tbody>\n",
       "</table>\n",
       "</div>"
      ],
      "text/plain": [
       "   order_id  order_date  customer_id  product_id recent_order_date\n",
       "2         3  2020-08-29            3           3        2020-08-29\n",
       "5         6  2020-08-01            2           1        2020-08-01\n",
       "6         7  2020-08-01            3           1        2020-08-01\n",
       "7         8  2020-08-03            1           2        2020-08-03"
      ]
     },
     "execution_count": 16,
     "metadata": {},
     "output_type": "execute_result"
    }
   ],
   "source": [
    "orders_df=orders_df[orders_df['order_date']==orders_df['recent_order_date']]\n",
    "orders_df"
   ]
  },
  {
   "cell_type": "code",
   "execution_count": 17,
   "id": "42f34ec6",
   "metadata": {},
   "outputs": [
    {
     "data": {
      "text/html": [
       "<div>\n",
       "<style scoped>\n",
       "    .dataframe tbody tr th:only-of-type {\n",
       "        vertical-align: middle;\n",
       "    }\n",
       "\n",
       "    .dataframe tbody tr th {\n",
       "        vertical-align: top;\n",
       "    }\n",
       "\n",
       "    .dataframe thead th {\n",
       "        text-align: right;\n",
       "    }\n",
       "</style>\n",
       "<table border=\"1\" class=\"dataframe\">\n",
       "  <thead>\n",
       "    <tr style=\"text-align: right;\">\n",
       "      <th></th>\n",
       "      <th>product_name</th>\n",
       "      <th>product_id</th>\n",
       "      <th>order_id</th>\n",
       "      <th>order_date</th>\n",
       "    </tr>\n",
       "  </thead>\n",
       "  <tbody>\n",
       "    <tr>\n",
       "      <th>1</th>\n",
       "      <td>keyboard</td>\n",
       "      <td>1</td>\n",
       "      <td>6</td>\n",
       "      <td>2020-08-01</td>\n",
       "    </tr>\n",
       "    <tr>\n",
       "      <th>2</th>\n",
       "      <td>keyboard</td>\n",
       "      <td>1</td>\n",
       "      <td>7</td>\n",
       "      <td>2020-08-01</td>\n",
       "    </tr>\n",
       "    <tr>\n",
       "      <th>3</th>\n",
       "      <td>mouse</td>\n",
       "      <td>2</td>\n",
       "      <td>8</td>\n",
       "      <td>2020-08-03</td>\n",
       "    </tr>\n",
       "    <tr>\n",
       "      <th>0</th>\n",
       "      <td>screen</td>\n",
       "      <td>3</td>\n",
       "      <td>3</td>\n",
       "      <td>2020-08-29</td>\n",
       "    </tr>\n",
       "  </tbody>\n",
       "</table>\n",
       "</div>"
      ],
      "text/plain": [
       "  product_name  product_id  order_id  order_date\n",
       "1     keyboard           1         6  2020-08-01\n",
       "2     keyboard           1         7  2020-08-01\n",
       "3        mouse           2         8  2020-08-03\n",
       "0       screen           3         3  2020-08-29"
      ]
     },
     "execution_count": 17,
     "metadata": {},
     "output_type": "execute_result"
    }
   ],
   "source": [
    "result_df=pd.merge(orders_df,products_df,on='product_id',how='left')\\\n",
    "                [['product_name','product_id','order_id','order_date']]\\\n",
    "                .sort_values(['product_name','product_id'],ascending=[True,True])\n",
    "result_df"
   ]
  }
 ],
 "metadata": {
  "kernelspec": {
   "display_name": "Python 3",
   "language": "python",
   "name": "python3"
  },
  "language_info": {
   "codemirror_mode": {
    "name": "ipython",
    "version": 3
   },
   "file_extension": ".py",
   "mimetype": "text/x-python",
   "name": "python",
   "nbconvert_exporter": "python",
   "pygments_lexer": "ipython3",
   "version": "3.13.7"
  }
 },
 "nbformat": 4,
 "nbformat_minor": 5
}
