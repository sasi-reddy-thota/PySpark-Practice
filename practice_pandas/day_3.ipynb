{
 "cells": [
  {
   "cell_type": "code",
   "execution_count": 2,
   "id": "932d4336",
   "metadata": {},
   "outputs": [],
   "source": [
    "import pandas as pd"
   ]
  },
  {
   "cell_type": "code",
   "execution_count": 3,
   "id": "726ef85f",
   "metadata": {},
   "outputs": [],
   "source": [
    "customers={\n",
    "    'customer_id': [1, 2, 3, 4, 5],\n",
    "    'name': ['Winston', 'Jonathan', 'Annabelle', 'Marwan', 'Khaled']\n",
    "}\n",
    "\n",
    "orders = {\n",
    "    'order_id': [1,2,3,4,5,6,7,8,9,10],\n",
    "    'order_date': [\n",
    "        '2020-07-31','2020-07-30','2020-08-29','2020-07-29','2020-06-10',\n",
    "        '2020-08-01','2020-08-01','2020-08-03','2020-08-07','2020-07-15'\n",
    "    ],\n",
    "    'customer_id': [1,2,3,4,1,2,3,1,2,1],\n",
    "    'product_id': [1,2,3,1,2,1,1,2,3,2]\n",
    "}\n",
    "\n",
    "products = {\n",
    "    'product_id': [1,2,3,4],\n",
    "    'product_name': ['keyboard','mouse','screen','hard disk'],\n",
    "    'price': [120,80,600,450]\n",
    "}\n"
   ]
  },
  {
   "cell_type": "code",
   "execution_count": 5,
   "id": "0a921691",
   "metadata": {},
   "outputs": [
    {
     "data": {
      "text/plain": [
       "(   order_id  order_date  customer_id  product_id\n",
       " 0         1  2020-07-31            1           1\n",
       " 1         2  2020-07-30            2           2\n",
       " 2         3  2020-08-29            3           3\n",
       " 3         4  2020-07-29            4           1\n",
       " 4         5  2020-06-10            1           2\n",
       " 5         6  2020-08-01            2           1\n",
       " 6         7  2020-08-01            3           1\n",
       " 7         8  2020-08-03            1           2\n",
       " 8         9  2020-08-07            2           3\n",
       " 9        10  2020-07-15            1           2,\n",
       "    product_id product_name  price\n",
       " 0           1     keyboard    120\n",
       " 1           2        mouse     80\n",
       " 2           3       screen    600\n",
       " 3           4    hard disk    450)"
      ]
     },
     "execution_count": 5,
     "metadata": {},
     "output_type": "execute_result"
    }
   ],
   "source": [
    "products_df=pd.DataFrame(products)\n",
    "orders_df=pd.DataFrame(orders)\n",
    "orders_df,products_df"
   ]
  },
  {
   "cell_type": "code",
   "execution_count": null,
   "id": "3ecac196",
   "metadata": {},
   "outputs": [],
   "source": [
    "orders_df"
   ]
  }
 ],
 "metadata": {
  "kernelspec": {
   "display_name": "Python 3",
   "language": "python",
   "name": "python3"
  },
  "language_info": {
   "codemirror_mode": {
    "name": "ipython",
    "version": 3
   },
   "file_extension": ".py",
   "mimetype": "text/x-python",
   "name": "python",
   "nbconvert_exporter": "python",
   "pygments_lexer": "ipython3",
   "version": "3.13.7"
  }
 },
 "nbformat": 4,
 "nbformat_minor": 5
}
