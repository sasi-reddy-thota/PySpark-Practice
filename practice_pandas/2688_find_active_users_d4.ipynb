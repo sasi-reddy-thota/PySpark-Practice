{
 "cells": [
  {
   "cell_type": "code",
   "execution_count": 1,
   "id": "baad969e",
   "metadata": {},
   "outputs": [],
   "source": [
    "import pandas as pd"
   ]
  },
  {
   "cell_type": "code",
   "execution_count": 2,
   "id": "756dc002",
   "metadata": {},
   "outputs": [],
   "source": [
    "users = {\n",
    "    'user_id': [5, 6, 6, 8, 4, 4],\n",
    "    'item': [\n",
    "        'Smart Crock Pot',\n",
    "        'Smart Lock',\n",
    "        'Smart Thermostat',\n",
    "        'Smart Light Strip',\n",
    "        'Smart Cat Feeder',\n",
    "        'Smart Bed'\n",
    "    ],\n",
    "    'created_at': [\n",
    "        '2021-09-18',\n",
    "        '2021-09-14',\n",
    "        '2021-09-10',\n",
    "        '2021-09-29',\n",
    "        '2021-09-02',\n",
    "        '2021-09-13'\n",
    "    ],\n",
    "    'amount': [698882, 11487, 674762, 630773, 693545, 170249]\n",
    "}\n"
   ]
  },
  {
   "cell_type": "code",
   "execution_count": 17,
   "id": "2425c278",
   "metadata": {},
   "outputs": [
    {
     "data": {
      "text/plain": [
       "user_id                int64\n",
       "item                  object\n",
       "created_at    datetime64[ns]\n",
       "amount                 int64\n",
       "dtype: object"
      ]
     },
     "execution_count": 17,
     "metadata": {},
     "output_type": "execute_result"
    }
   ],
   "source": [
    "users_df=pd.DataFrame(users)\n",
    "users_df['created_at']=pd.to_datetime(users_df['created_at'])\n",
    "users_df.dtypes"
   ]
  },
  {
   "cell_type": "code",
   "execution_count": 18,
   "id": "507118f1",
   "metadata": {},
   "outputs": [
    {
     "data": {
      "text/html": [
       "<div>\n",
       "<style scoped>\n",
       "    .dataframe tbody tr th:only-of-type {\n",
       "        vertical-align: middle;\n",
       "    }\n",
       "\n",
       "    .dataframe tbody tr th {\n",
       "        vertical-align: top;\n",
       "    }\n",
       "\n",
       "    .dataframe thead th {\n",
       "        text-align: right;\n",
       "    }\n",
       "</style>\n",
       "<table border=\"1\" class=\"dataframe\">\n",
       "  <thead>\n",
       "    <tr style=\"text-align: right;\">\n",
       "      <th></th>\n",
       "      <th>user_id</th>\n",
       "      <th>item</th>\n",
       "      <th>created_at</th>\n",
       "      <th>amount</th>\n",
       "    </tr>\n",
       "  </thead>\n",
       "  <tbody>\n",
       "    <tr>\n",
       "      <th>4</th>\n",
       "      <td>4</td>\n",
       "      <td>Smart Cat Feeder</td>\n",
       "      <td>2021-09-02</td>\n",
       "      <td>693545</td>\n",
       "    </tr>\n",
       "    <tr>\n",
       "      <th>5</th>\n",
       "      <td>4</td>\n",
       "      <td>Smart Bed</td>\n",
       "      <td>2021-09-13</td>\n",
       "      <td>170249</td>\n",
       "    </tr>\n",
       "    <tr>\n",
       "      <th>0</th>\n",
       "      <td>5</td>\n",
       "      <td>Smart Crock Pot</td>\n",
       "      <td>2021-09-18</td>\n",
       "      <td>698882</td>\n",
       "    </tr>\n",
       "    <tr>\n",
       "      <th>2</th>\n",
       "      <td>6</td>\n",
       "      <td>Smart Thermostat</td>\n",
       "      <td>2021-09-10</td>\n",
       "      <td>674762</td>\n",
       "    </tr>\n",
       "    <tr>\n",
       "      <th>1</th>\n",
       "      <td>6</td>\n",
       "      <td>Smart Lock</td>\n",
       "      <td>2021-09-14</td>\n",
       "      <td>11487</td>\n",
       "    </tr>\n",
       "    <tr>\n",
       "      <th>3</th>\n",
       "      <td>8</td>\n",
       "      <td>Smart Light Strip</td>\n",
       "      <td>2021-09-29</td>\n",
       "      <td>630773</td>\n",
       "    </tr>\n",
       "  </tbody>\n",
       "</table>\n",
       "</div>"
      ],
      "text/plain": [
       "   user_id               item created_at  amount\n",
       "4        4   Smart Cat Feeder 2021-09-02  693545\n",
       "5        4          Smart Bed 2021-09-13  170249\n",
       "0        5    Smart Crock Pot 2021-09-18  698882\n",
       "2        6   Smart Thermostat 2021-09-10  674762\n",
       "1        6         Smart Lock 2021-09-14   11487\n",
       "3        8  Smart Light Strip 2021-09-29  630773"
      ]
     },
     "execution_count": 18,
     "metadata": {},
     "output_type": "execute_result"
    }
   ],
   "source": [
    "users_df=users_df.sort_values(['user_id','created_at'])\n",
    "users_df\n"
   ]
  },
  {
   "cell_type": "code",
   "execution_count": 19,
   "id": "e5360b6e",
   "metadata": {},
   "outputs": [
    {
     "data": {
      "text/html": [
       "<div>\n",
       "<style scoped>\n",
       "    .dataframe tbody tr th:only-of-type {\n",
       "        vertical-align: middle;\n",
       "    }\n",
       "\n",
       "    .dataframe tbody tr th {\n",
       "        vertical-align: top;\n",
       "    }\n",
       "\n",
       "    .dataframe thead th {\n",
       "        text-align: right;\n",
       "    }\n",
       "</style>\n",
       "<table border=\"1\" class=\"dataframe\">\n",
       "  <thead>\n",
       "    <tr style=\"text-align: right;\">\n",
       "      <th></th>\n",
       "      <th>user_id</th>\n",
       "      <th>item</th>\n",
       "      <th>created_at</th>\n",
       "      <th>amount</th>\n",
       "      <th>next_purchase</th>\n",
       "    </tr>\n",
       "  </thead>\n",
       "  <tbody>\n",
       "    <tr>\n",
       "      <th>4</th>\n",
       "      <td>4</td>\n",
       "      <td>Smart Cat Feeder</td>\n",
       "      <td>2021-09-02</td>\n",
       "      <td>693545</td>\n",
       "      <td>2021-09-13</td>\n",
       "    </tr>\n",
       "    <tr>\n",
       "      <th>5</th>\n",
       "      <td>4</td>\n",
       "      <td>Smart Bed</td>\n",
       "      <td>2021-09-13</td>\n",
       "      <td>170249</td>\n",
       "      <td>NaT</td>\n",
       "    </tr>\n",
       "    <tr>\n",
       "      <th>0</th>\n",
       "      <td>5</td>\n",
       "      <td>Smart Crock Pot</td>\n",
       "      <td>2021-09-18</td>\n",
       "      <td>698882</td>\n",
       "      <td>NaT</td>\n",
       "    </tr>\n",
       "    <tr>\n",
       "      <th>2</th>\n",
       "      <td>6</td>\n",
       "      <td>Smart Thermostat</td>\n",
       "      <td>2021-09-10</td>\n",
       "      <td>674762</td>\n",
       "      <td>2021-09-14</td>\n",
       "    </tr>\n",
       "    <tr>\n",
       "      <th>1</th>\n",
       "      <td>6</td>\n",
       "      <td>Smart Lock</td>\n",
       "      <td>2021-09-14</td>\n",
       "      <td>11487</td>\n",
       "      <td>NaT</td>\n",
       "    </tr>\n",
       "    <tr>\n",
       "      <th>3</th>\n",
       "      <td>8</td>\n",
       "      <td>Smart Light Strip</td>\n",
       "      <td>2021-09-29</td>\n",
       "      <td>630773</td>\n",
       "      <td>NaT</td>\n",
       "    </tr>\n",
       "  </tbody>\n",
       "</table>\n",
       "</div>"
      ],
      "text/plain": [
       "   user_id               item created_at  amount next_purchase\n",
       "4        4   Smart Cat Feeder 2021-09-02  693545    2021-09-13\n",
       "5        4          Smart Bed 2021-09-13  170249           NaT\n",
       "0        5    Smart Crock Pot 2021-09-18  698882           NaT\n",
       "2        6   Smart Thermostat 2021-09-10  674762    2021-09-14\n",
       "1        6         Smart Lock 2021-09-14   11487           NaT\n",
       "3        8  Smart Light Strip 2021-09-29  630773           NaT"
      ]
     },
     "execution_count": 19,
     "metadata": {},
     "output_type": "execute_result"
    }
   ],
   "source": [
    "users_df['next_purchase']=users_df.groupby('user_id',as_index=False)['created_at'].shift(-1)\n",
    "users_df['next_purchase']=pd.to_datetime(users_df['next_purchase'])\n",
    "users_df"
   ]
  },
  {
   "cell_type": "code",
   "execution_count": 21,
   "id": "988eb89a",
   "metadata": {},
   "outputs": [
    {
     "data": {
      "text/html": [
       "<div>\n",
       "<style scoped>\n",
       "    .dataframe tbody tr th:only-of-type {\n",
       "        vertical-align: middle;\n",
       "    }\n",
       "\n",
       "    .dataframe tbody tr th {\n",
       "        vertical-align: top;\n",
       "    }\n",
       "\n",
       "    .dataframe thead th {\n",
       "        text-align: right;\n",
       "    }\n",
       "</style>\n",
       "<table border=\"1\" class=\"dataframe\">\n",
       "  <thead>\n",
       "    <tr style=\"text-align: right;\">\n",
       "      <th></th>\n",
       "      <th>user_id</th>\n",
       "    </tr>\n",
       "  </thead>\n",
       "  <tbody>\n",
       "    <tr>\n",
       "      <th>2</th>\n",
       "      <td>6</td>\n",
       "    </tr>\n",
       "  </tbody>\n",
       "</table>\n",
       "</div>"
      ],
      "text/plain": [
       "   user_id\n",
       "2        6"
      ]
     },
     "execution_count": 21,
     "metadata": {},
     "output_type": "execute_result"
    }
   ],
   "source": [
    "users_df[(users_df['next_purchase']-users_df['created_at']).dt.days<=7][['user_id']]"
   ]
  }
 ],
 "metadata": {
  "kernelspec": {
   "display_name": "Python 3",
   "language": "python",
   "name": "python3"
  },
  "language_info": {
   "codemirror_mode": {
    "name": "ipython",
    "version": 3
   },
   "file_extension": ".py",
   "mimetype": "text/x-python",
   "name": "python",
   "nbconvert_exporter": "python",
   "pygments_lexer": "ipython3",
   "version": "3.13.7"
  }
 },
 "nbformat": 4,
 "nbformat_minor": 5
}
