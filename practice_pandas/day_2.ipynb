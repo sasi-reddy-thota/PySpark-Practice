{
 "cells": [
  {
   "cell_type": "code",
   "execution_count": 1,
   "id": "e875ddfd",
   "metadata": {},
   "outputs": [],
   "source": [
    "import pandas as pd"
   ]
  },
  {
   "cell_type": "code",
   "execution_count": 10,
   "id": "759d8c1a",
   "metadata": {},
   "outputs": [],
   "source": [
    "data = {\n",
    "    'user_id': [101, 101, 102, 102, 101, 104, 103],\n",
    "    'session_start': [\n",
    "        '2023-11-06 13:53:42',\n",
    "        '2023-11-22 16:45:21',\n",
    "        '2023-11-16 13:23:09',\n",
    "        '2023-11-17 13:23:09',\n",
    "        '2023-11-20 07:16:06',\n",
    "        '2023-11-27 03:10:49',\n",
    "        '2023-11-27 03:10:49'\n",
    "    ],\n",
    "    'session_end': [\n",
    "        '2023-11-06 14:05:42',\n",
    "        '2023-11-22 20:39:21',\n",
    "        '2023-11-16 16:10:09',\n",
    "        '2023-11-17 16:10:09',\n",
    "        '2023-11-20 08:33:06',\n",
    "        '2023-11-27 03:30:49',\n",
    "        '2023-11-27 03:30:49'\n",
    "    ],\n",
    "    'session_id': [375, 594, 777, 778, 315, 797, 798],\n",
    "    'session_type': ['Viewer', 'Streamer', 'Streamer', 'Streamer', 'Streamer', 'Viewer', 'Streamer']\n",
    "}"
   ]
  },
  {
   "cell_type": "code",
   "execution_count": 3,
   "id": "247eafda",
   "metadata": {},
   "outputs": [
    {
     "data": {
      "text/html": [
       "<div>\n",
       "<style scoped>\n",
       "    .dataframe tbody tr th:only-of-type {\n",
       "        vertical-align: middle;\n",
       "    }\n",
       "\n",
       "    .dataframe tbody tr th {\n",
       "        vertical-align: top;\n",
       "    }\n",
       "\n",
       "    .dataframe thead th {\n",
       "        text-align: right;\n",
       "    }\n",
       "</style>\n",
       "<table border=\"1\" class=\"dataframe\">\n",
       "  <thead>\n",
       "    <tr style=\"text-align: right;\">\n",
       "      <th></th>\n",
       "      <th>user_id</th>\n",
       "      <th>session_start</th>\n",
       "      <th>session_end</th>\n",
       "      <th>session_id</th>\n",
       "      <th>session_type</th>\n",
       "    </tr>\n",
       "  </thead>\n",
       "  <tbody>\n",
       "    <tr>\n",
       "      <th>0</th>\n",
       "      <td>101</td>\n",
       "      <td>2023-11-06 13:53:42</td>\n",
       "      <td>2023-11-06 14:05:42</td>\n",
       "      <td>375</td>\n",
       "      <td>Viewer</td>\n",
       "    </tr>\n",
       "    <tr>\n",
       "      <th>1</th>\n",
       "      <td>101</td>\n",
       "      <td>2023-11-22 16:45:21</td>\n",
       "      <td>2023-11-22 20:39:21</td>\n",
       "      <td>594</td>\n",
       "      <td>Streamer</td>\n",
       "    </tr>\n",
       "    <tr>\n",
       "      <th>2</th>\n",
       "      <td>102</td>\n",
       "      <td>2023-11-16 13:23:09</td>\n",
       "      <td>2023-11-16 16:10:09</td>\n",
       "      <td>777</td>\n",
       "      <td>Streamer</td>\n",
       "    </tr>\n",
       "    <tr>\n",
       "      <th>3</th>\n",
       "      <td>102</td>\n",
       "      <td>2023-11-17 13:23:09</td>\n",
       "      <td>2023-11-17 16:10:09</td>\n",
       "      <td>778</td>\n",
       "      <td>Streamer</td>\n",
       "    </tr>\n",
       "    <tr>\n",
       "      <th>4</th>\n",
       "      <td>101</td>\n",
       "      <td>2023-11-20 07:16:06</td>\n",
       "      <td>2023-11-20 08:33:06</td>\n",
       "      <td>315</td>\n",
       "      <td>Streamer</td>\n",
       "    </tr>\n",
       "    <tr>\n",
       "      <th>5</th>\n",
       "      <td>104</td>\n",
       "      <td>2023-11-27 03:10:49</td>\n",
       "      <td>2023-11-27 03:30:49</td>\n",
       "      <td>797</td>\n",
       "      <td>Viewer</td>\n",
       "    </tr>\n",
       "    <tr>\n",
       "      <th>6</th>\n",
       "      <td>103</td>\n",
       "      <td>2023-11-27 03:10:49</td>\n",
       "      <td>2023-11-27 03:30:49</td>\n",
       "      <td>798</td>\n",
       "      <td>Streamer</td>\n",
       "    </tr>\n",
       "  </tbody>\n",
       "</table>\n",
       "</div>"
      ],
      "text/plain": [
       "   user_id       session_start         session_end  session_id session_type\n",
       "0      101 2023-11-06 13:53:42 2023-11-06 14:05:42         375       Viewer\n",
       "1      101 2023-11-22 16:45:21 2023-11-22 20:39:21         594     Streamer\n",
       "2      102 2023-11-16 13:23:09 2023-11-16 16:10:09         777     Streamer\n",
       "3      102 2023-11-17 13:23:09 2023-11-17 16:10:09         778     Streamer\n",
       "4      101 2023-11-20 07:16:06 2023-11-20 08:33:06         315     Streamer\n",
       "5      104 2023-11-27 03:10:49 2023-11-27 03:30:49         797       Viewer\n",
       "6      103 2023-11-27 03:10:49 2023-11-27 03:30:49         798     Streamer"
      ]
     },
     "execution_count": 3,
     "metadata": {},
     "output_type": "execute_result"
    }
   ],
   "source": [
    "sessions = pd.DataFrame(data)\n",
    "sessions['session_start'] = pd.to_datetime(sessions['session_start'])\n",
    "sessions['session_end'] = pd.to_datetime(sessions['session_end'])\n",
    "sessions"
   ]
  },
  {
   "cell_type": "code",
   "execution_count": null,
   "id": "5421bb89",
   "metadata": {},
   "outputs": [
    {
     "data": {
      "text/html": [
       "<div>\n",
       "<style scoped>\n",
       "    .dataframe tbody tr th:only-of-type {\n",
       "        vertical-align: middle;\n",
       "    }\n",
       "\n",
       "    .dataframe tbody tr th {\n",
       "        vertical-align: top;\n",
       "    }\n",
       "\n",
       "    .dataframe thead th {\n",
       "        text-align: right;\n",
       "    }\n",
       "</style>\n",
       "<table border=\"1\" class=\"dataframe\">\n",
       "  <thead>\n",
       "    <tr style=\"text-align: right;\">\n",
       "      <th></th>\n",
       "      <th>user_id</th>\n",
       "      <th>sessions_count</th>\n",
       "    </tr>\n",
       "  </thead>\n",
       "  <tbody>\n",
       "    <tr>\n",
       "      <th>0</th>\n",
       "      <td>101</td>\n",
       "      <td>2</td>\n",
       "    </tr>\n",
       "  </tbody>\n",
       "</table>\n",
       "</div>"
      ],
      "text/plain": [
       "   user_id  sessions_count\n",
       "0      101               2"
      ]
     },
     "execution_count": 9,
     "metadata": {},
     "output_type": "execute_result"
    }
   ],
   "source": [
    "sessions=sessions.sort_values('session_start')\n",
    "first_val_df=sessions.groupby('user_id',as_index=False).first()[['user_id','session_type']]\n",
    "first_val_df=first_val_df.rename(columns={'session_type':'first_session_type'})\n",
    "sessions=pd.merge(sessions,first_val_df,on='user_id',how='left')\n",
    "result_df=sessions[(sessions['first_session_type']=='Viewer')&(sessions['session_type']=='Streamer')]\\\n",
    "    .groupby('user_id',as_index=False)\\\n",
    "    .agg(sessions_count=('session_type','size'))\n",
    "result_df"
   ]
  }
 ],
 "metadata": {
  "kernelspec": {
   "display_name": "base",
   "language": "python",
   "name": "python3"
  },
  "language_info": {
   "codemirror_mode": {
    "name": "ipython",
    "version": 3
   },
   "file_extension": ".py",
   "mimetype": "text/x-python",
   "name": "python",
   "nbconvert_exporter": "python",
   "pygments_lexer": "ipython3",
   "version": "3.11.13"
  }
 },
 "nbformat": 4,
 "nbformat_minor": 5
}
