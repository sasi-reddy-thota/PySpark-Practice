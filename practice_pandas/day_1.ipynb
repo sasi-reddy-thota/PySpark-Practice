{
 "cells": [
  {
   "cell_type": "code",
   "execution_count": null,
   "id": "73222aea",
   "metadata": {},
   "outputs": [],
   "source": [
    "import pandas as pd"
   ]
  },
  {
   "cell_type": "code",
   "execution_count": null,
   "id": "1f34a465",
   "metadata": {},
   "outputs": [],
   "source": [
    "data = {\n",
    "    'seat_id': [1, 2, 3, 4, 5, 6, 7, 8],\n",
    "    'free': [1, 0, 1, 1, 1, 0, 1, 1]\n",
    "}\n"
   ]
  },
  {
   "cell_type": "code",
   "execution_count": 22,
   "id": "2fb15b5f",
   "metadata": {},
   "outputs": [
    {
     "data": {
      "text/html": [
       "<div>\n",
       "<style scoped>\n",
       "    .dataframe tbody tr th:only-of-type {\n",
       "        vertical-align: middle;\n",
       "    }\n",
       "\n",
       "    .dataframe tbody tr th {\n",
       "        vertical-align: top;\n",
       "    }\n",
       "\n",
       "    .dataframe thead th {\n",
       "        text-align: right;\n",
       "    }\n",
       "</style>\n",
       "<table border=\"1\" class=\"dataframe\">\n",
       "  <thead>\n",
       "    <tr style=\"text-align: right;\">\n",
       "      <th></th>\n",
       "      <th>grp</th>\n",
       "      <th>first_seat_id</th>\n",
       "      <th>last_seat_id</th>\n",
       "      <th>consecutive_seats_len</th>\n",
       "    </tr>\n",
       "  </thead>\n",
       "  <tbody>\n",
       "    <tr>\n",
       "      <th>1</th>\n",
       "      <td>1</td>\n",
       "      <td>3</td>\n",
       "      <td>5</td>\n",
       "      <td>3</td>\n",
       "    </tr>\n",
       "    <tr>\n",
       "      <th>2</th>\n",
       "      <td>2</td>\n",
       "      <td>7</td>\n",
       "      <td>8</td>\n",
       "      <td>2</td>\n",
       "    </tr>\n",
       "    <tr>\n",
       "      <th>0</th>\n",
       "      <td>0</td>\n",
       "      <td>1</td>\n",
       "      <td>1</td>\n",
       "      <td>1</td>\n",
       "    </tr>\n",
       "  </tbody>\n",
       "</table>\n",
       "</div>"
      ],
      "text/plain": [
       "   grp  first_seat_id  last_seat_id  consecutive_seats_len\n",
       "1    1              3             5                      3\n",
       "2    2              7             8                      2\n",
       "0    0              1             1                      1"
      ]
     },
     "execution_count": 22,
     "metadata": {},
     "output_type": "execute_result"
    }
   ],
   "source": [
    "df = pd.DataFrame(data)\n",
    "df['row_number'] = df.groupby('free').cumcount()+1\n",
    "df=df[df['free']==1]\n",
    "df['grp']=df['seat_id']-df['row_number']\n",
    "df=df.groupby('grp',as_index=False)\\\n",
    "    .agg(\n",
    "        first_seat_id=('seat_id','min'),\n",
    "        last_seat_id=('seat_id','max'),\n",
    "        consecutive_seats_len=('seat_id','size')\n",
    "        )\n",
    "df.sort_values('consecutive_seats_len',ascending=False)"
   ]
  }
 ],
 "metadata": {
  "kernelspec": {
   "display_name": "base",
   "language": "python",
   "name": "python3"
  },
  "language_info": {
   "codemirror_mode": {
    "name": "ipython",
    "version": 3
   },
   "file_extension": ".py",
   "mimetype": "text/x-python",
   "name": "python",
   "nbconvert_exporter": "python",
   "pygments_lexer": "ipython3",
   "version": "3.11.13"
  }
 },
 "nbformat": 4,
 "nbformat_minor": 5
}
