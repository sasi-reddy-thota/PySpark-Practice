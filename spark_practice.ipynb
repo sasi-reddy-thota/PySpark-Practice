{
 "cells": [
  {
   "cell_type": "markdown",
   "id": "fb49cd5d",
   "metadata": {},
   "source": [
    "### Spark Session Creation"
   ]
  },
  {
   "cell_type": "code",
   "execution_count": 64,
   "id": "98dee2cc",
   "metadata": {},
   "outputs": [],
   "source": [
    "from pyspark.sql import SparkSession\n",
    "from pyspark.sql.functions import *"
   ]
  },
  {
   "cell_type": "code",
   "execution_count": 65,
   "id": "f821fc58",
   "metadata": {},
   "outputs": [
    {
     "name": "stdout",
     "output_type": "stream",
     "text": [
      "Spark Version: 4.0.1\n"
     ]
    }
   ],
   "source": [
    "spark = SparkSession.builder\\\n",
    "            .appName(\"MySparkApp\")\\\n",
    "            .master(\"local[*]\")\\\n",
    "            .getOrCreate()\n",
    "print(\"Spark Version:\", spark.version)\n"
   ]
  },
  {
   "cell_type": "markdown",
   "id": "988ccab5",
   "metadata": {},
   "source": [
    "### Data Sets"
   ]
  },
  {
   "cell_type": "code",
   "execution_count": 66,
   "id": "ef4419ae",
   "metadata": {},
   "outputs": [],
   "source": [
    "customers = [\n",
    "    {\"customer_id\": 1, \"name\": \"Alice\", \"age\": 28, \"city\": \"Bangalore\"},\n",
    "    {\"customer_id\": 2, \"name\": \"Bob\", \"age\": 34, \"city\": \"Hyderabad\"},\n",
    "    {\"customer_id\": 3, \"name\": \"Charlie\", \"age\": 25, \"city\": \"Mumbai\"},\n",
    "    {\"customer_id\": 4, \"name\": \"Diana\", \"age\": 30, \"city\": \"Chennai\"},\n",
    "    {\"customer_id\": 5, \"name\": \"Eve\", \"age\": 27, \"city\": \"Pune\"}\n",
    "]\n",
    "\n",
    "orders = [\n",
    "    {\"order_id\": 101, \"customer_id\": 1, \"product\": \"Laptop\", \"amount\": 75000, \"order_date\": \"2025-09-10\"},\n",
    "    {\"order_id\": 102, \"customer_id\": 2, \"product\": \"Smartphone\", \"amount\": 25000, \"order_date\": \"2025-09-12\"},\n",
    "    {\"order_id\": 103, \"customer_id\": 1, \"product\": \"Keyboard\", \"amount\": 2000, \"order_date\": \"2025-09-15\"},\n",
    "    {\"order_id\": 104, \"customer_id\": 3, \"product\": \"Monitor\", \"amount\": 12000, \"order_date\": \"2025-09-20\"},\n",
    "    {\"order_id\": 105, \"customer_id\": 5, \"product\": \"Mouse\", \"amount\": 1500, \"order_date\": \"2025-09-25\"},\n",
    "    {\"order_id\": 106, \"customer_id\": 4, \"product\": \"Headphones\", \"amount\": 3000, \"order_date\": \"2025-09-28\"}\n",
    "]\n",
    "\n",
    "products = [\n",
    "    {\"product\": \"Laptop\", \"category\": \"Electronics\", \"in_stock\": True},\n",
    "    {\"product\": \"Smartphone\", \"category\": \"Electronics\", \"in_stock\": True},\n",
    "    {\"product\": \"Keyboard\", \"category\": \"Accessories\", \"in_stock\": True},\n",
    "    {\"product\": \"Monitor\", \"category\": \"Electronics\", \"in_stock\": False},\n",
    "    {\"product\": \"Mouse\", \"category\": \"Accessories\", \"in_stock\": True},\n",
    "    {\"product\": \"Headphones\", \"category\": \"Accessories\", \"in_stock\": True}\n",
    "]\n"
   ]
  },
  {
   "cell_type": "markdown",
   "id": "1683c506",
   "metadata": {},
   "source": [
    "### Day-1\n"
   ]
  },
  {
   "cell_type": "markdown",
   "id": "592b5ca8",
   "metadata": {},
   "source": [
    "1️⃣ Problem: Create DataFrames\n",
    "\n",
    "Objective: Create Spark DataFrames for all three datasets.\n",
    "\n",
    "Difficulty: 🟢 Easy\n",
    "\n",
    "Expected Output:\n",
    "\n",
    "df_customers, df_orders, and df_products DataFrames displayed using show() and verified via printSchema().\n"
   ]
  },
  {
   "cell_type": "code",
   "execution_count": 67,
   "id": "dcb6ec40",
   "metadata": {},
   "outputs": [],
   "source": [
    "customers_df=spark.createDataFrame(customers)\n",
    "orders_df=spark.createDataFrame(orders)\n",
    "products_df=spark.createDataFrame(products)"
   ]
  },
  {
   "cell_type": "code",
   "execution_count": 68,
   "id": "ae016e9d",
   "metadata": {},
   "outputs": [
    {
     "name": "stdout",
     "output_type": "stream",
     "text": [
      "+---+---------+-----------+-------+\n",
      "|age|     city|customer_id|   name|\n",
      "+---+---------+-----------+-------+\n",
      "| 28|Bangalore|          1|  Alice|\n",
      "| 34|Hyderabad|          2|    Bob|\n",
      "| 25|   Mumbai|          3|Charlie|\n",
      "| 30|  Chennai|          4|  Diana|\n",
      "| 27|     Pune|          5|    Eve|\n",
      "+---+---------+-----------+-------+\n",
      "\n"
     ]
    }
   ],
   "source": [
    "customers_df.show()"
   ]
  },
  {
   "cell_type": "code",
   "execution_count": 69,
   "id": "0cb9d314",
   "metadata": {},
   "outputs": [
    {
     "name": "stdout",
     "output_type": "stream",
     "text": [
      "+------+-----------+----------+--------+----------+\n",
      "|amount|customer_id|order_date|order_id|   product|\n",
      "+------+-----------+----------+--------+----------+\n",
      "| 75000|          1|2025-09-10|     101|    Laptop|\n",
      "| 25000|          2|2025-09-12|     102|Smartphone|\n",
      "|  2000|          1|2025-09-15|     103|  Keyboard|\n",
      "| 12000|          3|2025-09-20|     104|   Monitor|\n",
      "|  1500|          5|2025-09-25|     105|     Mouse|\n",
      "|  3000|          4|2025-09-28|     106|Headphones|\n",
      "+------+-----------+----------+--------+----------+\n",
      "\n",
      "root\n",
      " |-- amount: long (nullable = true)\n",
      " |-- customer_id: long (nullable = true)\n",
      " |-- order_date: string (nullable = true)\n",
      " |-- order_id: long (nullable = true)\n",
      " |-- product: string (nullable = true)\n",
      "\n"
     ]
    }
   ],
   "source": [
    "orders_df.show()\n",
    "orders_df.printSchema()\n"
   ]
  },
  {
   "cell_type": "code",
   "execution_count": 70,
   "id": "c03adc81",
   "metadata": {},
   "outputs": [
    {
     "name": "stdout",
     "output_type": "stream",
     "text": [
      "+-----------+--------+----------+\n",
      "|   category|in_stock|   product|\n",
      "+-----------+--------+----------+\n",
      "|Electronics|    true|    Laptop|\n",
      "|Electronics|    true|Smartphone|\n",
      "|Accessories|    true|  Keyboard|\n",
      "|Electronics|   false|   Monitor|\n",
      "|Accessories|    true|     Mouse|\n",
      "|Accessories|    true|Headphones|\n",
      "+-----------+--------+----------+\n",
      "\n"
     ]
    }
   ],
   "source": [
    "products_df.show()"
   ]
  },
  {
   "cell_type": "markdown",
   "id": "1a6af662",
   "metadata": {},
   "source": [
    "2️⃣ Problem: Total Spend per Customer\n",
    "\n",
    "Objective: Calculate the total amount spent by each customer.\n"
   ]
  },
  {
   "cell_type": "code",
   "execution_count": 71,
   "id": "80adf3ad",
   "metadata": {},
   "outputs": [
    {
     "name": "stdout",
     "output_type": "stream",
     "text": [
      "+-----------+------------+\n",
      "|customer_id|total_amount|\n",
      "+-----------+------------+\n",
      "|          1|       77000|\n",
      "|          2|       25000|\n",
      "|          3|       12000|\n",
      "|          5|        1500|\n",
      "|          4|        3000|\n",
      "+-----------+------------+\n",
      "\n",
      "+-----------+-----------+\n",
      "|customer_id|sum(amount)|\n",
      "+-----------+-----------+\n",
      "|          1|      77000|\n",
      "|          2|      25000|\n",
      "|          3|      12000|\n",
      "|          5|       1500|\n",
      "|          4|       3000|\n",
      "+-----------+-----------+\n",
      "\n"
     ]
    }
   ],
   "source": [
    "group_df=orders_df.groupBy(\"customer_id\").agg(sum(\"amount\").alias(\"total_amount\")).show()\n",
    "group_df=orders_df.groupBy(\"customer_id\").agg(sum(\"amount\")).show()\n"
   ]
  },
  {
   "cell_type": "markdown",
   "id": "19668d06",
   "metadata": {},
   "source": [
    "3️⃣ Problem: Join Customer & Order Details\n",
    "\n",
    "Expected Output Columns: customer_id, name, city, product, amount, order_date"
   ]
  },
  {
   "cell_type": "code",
   "execution_count": 72,
   "id": "26300e7c",
   "metadata": {},
   "outputs": [
    {
     "name": "stdout",
     "output_type": "stream",
     "text": [
      "+-----------+-------+---------+----------+------+----------+\n",
      "|customer_id|   name|     city|   product|amount|order_date|\n",
      "+-----------+-------+---------+----------+------+----------+\n",
      "|          1|  Alice|Bangalore|    Laptop| 75000|2025-09-10|\n",
      "|          2|    Bob|Hyderabad|Smartphone| 25000|2025-09-12|\n",
      "|          1|  Alice|Bangalore|  Keyboard|  2000|2025-09-15|\n",
      "|          3|Charlie|   Mumbai|   Monitor| 12000|2025-09-20|\n",
      "|          5|    Eve|     Pune|     Mouse|  1500|2025-09-25|\n",
      "|          4|  Diana|  Chennai|Headphones|  3000|2025-09-28|\n",
      "+-----------+-------+---------+----------+------+----------+\n",
      "\n"
     ]
    }
   ],
   "source": [
    "# df1.join(df2, on=\"column_name\", how=\"join_type\")\n",
    "join_df=orders_df.join(customers_df,on='customer_id',how='left')\n",
    "join_df.select('customer_id', 'name', 'city', 'product', 'amount', 'order_date').show()"
   ]
  },
  {
   "cell_type": "markdown",
   "id": "c8e411b2",
   "metadata": {},
   "source": [
    "4️⃣ Problem: Average Order Value by City\n",
    "\n",
    "Objective: Find average order value (amount) per city."
   ]
  },
  {
   "cell_type": "code",
   "execution_count": 73,
   "id": "2a56d3e0",
   "metadata": {},
   "outputs": [
    {
     "name": "stdout",
     "output_type": "stream",
     "text": [
      "+---------+----------+\n",
      "|     city|avg_amount|\n",
      "+---------+----------+\n",
      "|Bangalore|   38500.0|\n",
      "|  Chennai|    3000.0|\n",
      "|   Mumbai|   12000.0|\n",
      "|     Pune|    1500.0|\n",
      "|Hyderabad|   25000.0|\n",
      "+---------+----------+\n",
      "\n"
     ]
    }
   ],
   "source": [
    "group_join_df=join_df.groupBy('city').agg(avg('amount').alias('avg_amount'))\n",
    "group_join_df.show()"
   ]
  },
  {
   "cell_type": "markdown",
   "id": "068c169c",
   "metadata": {},
   "source": [
    "5️⃣ Problem: Filter High-Value Orders\n",
    "\n",
    "Objective: Filter orders with amount > 10,000 and sort descending by amount.\n",
    "\n",
    "Expected Output Columns: order_id, customer_id, product, amount\n",
    "\n"
   ]
  },
  {
   "cell_type": "code",
   "execution_count": 74,
   "id": "63026b1a",
   "metadata": {},
   "outputs": [
    {
     "name": "stdout",
     "output_type": "stream",
     "text": [
      "+--------+-----------+----------+------+\n",
      "|order_id|customer_id|   product|amount|\n",
      "+--------+-----------+----------+------+\n",
      "|     101|          1|    Laptop| 75000|\n",
      "|     102|          2|Smartphone| 25000|\n",
      "|     104|          3|   Monitor| 12000|\n",
      "+--------+-----------+----------+------+\n",
      "\n"
     ]
    }
   ],
   "source": [
    "join_df.filter('amount > 10000').select('order_id', 'customer_id', 'product', 'amount').show()"
   ]
  },
  {
   "cell_type": "markdown",
   "id": "4aaeda43",
   "metadata": {},
   "source": [
    "6️⃣ Problem: Add Month Column\n",
    "\n",
    "Objective: Extract month name from order_date and add as a new column.\n",
    "\n",
    "Expected Output Columns: order_id, customer_id, order_date, order_month"
   ]
  },
  {
   "cell_type": "code",
   "execution_count": 75,
   "id": "88a76d25",
   "metadata": {},
   "outputs": [
    {
     "name": "stdout",
     "output_type": "stream",
     "text": [
      "+-----------+------+----------+--------+----------+---+---------+-------+-----+\n",
      "|customer_id|amount|order_date|order_id|   product|age|     city|   name|month|\n",
      "+-----------+------+----------+--------+----------+---+---------+-------+-----+\n",
      "|          1| 75000|2025-09-10|     101|    Laptop| 28|Bangalore|  Alice|    9|\n",
      "|          2| 25000|2025-09-12|     102|Smartphone| 34|Hyderabad|    Bob|    9|\n",
      "|          1|  2000|2025-09-15|     103|  Keyboard| 28|Bangalore|  Alice|    9|\n",
      "|          3| 12000|2025-09-20|     104|   Monitor| 25|   Mumbai|Charlie|    9|\n",
      "|          5|  1500|2025-09-25|     105|     Mouse| 27|     Pune|    Eve|    9|\n",
      "|          4|  3000|2025-09-28|     106|Headphones| 30|  Chennai|  Diana|    9|\n",
      "+-----------+------+----------+--------+----------+---+---------+-------+-----+\n",
      "\n"
     ]
    }
   ],
   "source": [
    "join_df=join_df.withColumn('month',month('order_date'))\n",
    "join_df.show()"
   ]
  },
  {
   "cell_type": "markdown",
   "id": "b992d26e",
   "metadata": {},
   "source": [
    "7️⃣ Problem: Count of Products per Category\n",
    "\n",
    "Objective: Find how many products belong to each category."
   ]
  },
  {
   "cell_type": "code",
   "execution_count": 78,
   "id": "a8e07dae",
   "metadata": {},
   "outputs": [
    {
     "name": "stdout",
     "output_type": "stream",
     "text": [
      "+----------+-----------+------+----------+--------+---+---------+-------+-----+-----------+--------+\n",
      "|   product|customer_id|amount|order_date|order_id|age|     city|   name|month|   category|in_stock|\n",
      "+----------+-----------+------+----------+--------+---+---------+-------+-----+-----------+--------+\n",
      "|    Laptop|          1| 75000|2025-09-10|     101| 28|Bangalore|  Alice|    9|Electronics|    true|\n",
      "|Smartphone|          2| 25000|2025-09-12|     102| 34|Hyderabad|    Bob|    9|Electronics|    true|\n",
      "|  Keyboard|          1|  2000|2025-09-15|     103| 28|Bangalore|  Alice|    9|Accessories|    true|\n",
      "|   Monitor|          3| 12000|2025-09-20|     104| 25|   Mumbai|Charlie|    9|Electronics|   false|\n",
      "|     Mouse|          5|  1500|2025-09-25|     105| 27|     Pune|    Eve|    9|Accessories|    true|\n",
      "|Headphones|          4|  3000|2025-09-28|     106| 30|  Chennai|  Diana|    9|Accessories|    true|\n",
      "+----------+-----------+------+----------+--------+---+---------+-------+-----+-----------+--------+\n",
      "\n"
     ]
    }
   ],
   "source": [
    "join_prod_df=join_df.join(products_df,on='product',how='left')\n",
    "join_prod_df.show()"
   ]
  },
  {
   "cell_type": "code",
   "execution_count": 83,
   "id": "7fd97742",
   "metadata": {},
   "outputs": [
    {
     "name": "stdout",
     "output_type": "stream",
     "text": [
      "+-----------+-----------+\n",
      "|   category|count_items|\n",
      "+-----------+-----------+\n",
      "|Electronics|          3|\n",
      "|Accessories|          3|\n",
      "+-----------+-----------+\n",
      "\n"
     ]
    }
   ],
   "source": [
    "join_prod_df.groupBy('category').agg(count('category').alias('count_items')).show()"
   ]
  },
  {
   "cell_type": "markdown",
   "id": "d03d0500",
   "metadata": {},
   "source": [
    "8️⃣ Problem: Orders with Product Category\n",
    "\n",
    "Objective: Join orders with products on product and show full details.\n",
    "\n",
    "Columns: order_id, customer_id, product, category, amount, in_stock"
   ]
  },
  {
   "cell_type": "code",
   "execution_count": 85,
   "id": "6f705b0e",
   "metadata": {},
   "outputs": [
    {
     "name": "stdout",
     "output_type": "stream",
     "text": [
      "+--------+-----------+----------+-----------+------+--------+\n",
      "|order_id|customer_id|   product|   category|amount|in_stock|\n",
      "+--------+-----------+----------+-----------+------+--------+\n",
      "|     101|          1|    Laptop|Electronics| 75000|    true|\n",
      "|     102|          2|Smartphone|Electronics| 25000|    true|\n",
      "|     103|          1|  Keyboard|Accessories|  2000|    true|\n",
      "|     104|          3|   Monitor|Electronics| 12000|   false|\n",
      "|     105|          5|     Mouse|Accessories|  1500|    true|\n",
      "|     106|          4|Headphones|Accessories|  3000|    true|\n",
      "+--------+-----------+----------+-----------+------+--------+\n",
      "\n"
     ]
    }
   ],
   "source": [
    "join_prod_df[['order_id', 'customer_id', 'product', 'category', 'amount', 'in_stock']].show()\n"
   ]
  },
  {
   "cell_type": "markdown",
   "id": "e9d43564",
   "metadata": {},
   "source": [
    "9️⃣ Problem: Customers Without Orders\n",
    "\n",
    "Objective: List customers who didn’t place any orders.\n",
    "\n",
    "Expected Output: (empty in this dataset, but still good practice)"
   ]
  },
  {
   "cell_type": "code",
   "execution_count": 91,
   "id": "38cd7870",
   "metadata": {},
   "outputs": [
    {
     "name": "stdout",
     "output_type": "stream",
     "text": [
      "+----------+-----------+------+----------+--------+---+---------+-----+-----+-----------+--------+\n",
      "|   product|customer_id|amount|order_date|order_id|age|     city| name|month|   category|in_stock|\n",
      "+----------+-----------+------+----------+--------+---+---------+-----+-----+-----------+--------+\n",
      "|    Laptop|          1| 75000|2025-09-10|     101| 28|Bangalore|Alice|    9|Electronics|    true|\n",
      "|Smartphone|          2| 25000|2025-09-12|     102| 34|Hyderabad|  Bob|    9|Electronics|    true|\n",
      "+----------+-----------+------+----------+--------+---+---------+-----+-----+-----------+--------+\n",
      "\n"
     ]
    }
   ],
   "source": [
    "join_prod_df[~(join_prod_df['order_id']>102)].show()\n"
   ]
  },
  {
   "cell_type": "markdown",
   "id": "16fec1d9",
   "metadata": {},
   "source": [
    "🔟 Problem: Total Spend per Category\n",
    "\n",
    "Objective: Calculate total order amount per product category (Accessories/Electronics).\n",
    "\n",
    "Expected Output Example:"
   ]
  },
  {
   "cell_type": "code",
   "execution_count": 92,
   "id": "44d5b14e",
   "metadata": {},
   "outputs": [
    {
     "name": "stdout",
     "output_type": "stream",
     "text": [
      "+-----------+------------------+\n",
      "|   category|total_order_amount|\n",
      "+-----------+------------------+\n",
      "|Electronics|            112000|\n",
      "|Accessories|              6500|\n",
      "+-----------+------------------+\n",
      "\n"
     ]
    }
   ],
   "source": [
    "join_prod_df.groupBy('category').agg(sum('amount').alias('total_order_amount')).show()"
   ]
  }
 ],
 "metadata": {
  "kernelspec": {
   "display_name": "base",
   "language": "python",
   "name": "python3"
  },
  "language_info": {
   "codemirror_mode": {
    "name": "ipython",
    "version": 3
   },
   "file_extension": ".py",
   "mimetype": "text/x-python",
   "name": "python",
   "nbconvert_exporter": "python",
   "pygments_lexer": "ipython3",
   "version": "3.11.13"
  }
 },
 "nbformat": 4,
 "nbformat_minor": 5
}
